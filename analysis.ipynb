{
 "cells": [
  {
   "cell_type": "markdown",
   "metadata": {},
   "source": [
    "# Analysis of HDFC Stock\n",
    "\n",
    "## Section 0\n",
    "Inspect the data frame"
   ]
  },
  {
   "cell_type": "code",
   "execution_count": 1,
   "metadata": {},
   "outputs": [
    {
     "output_type": "execute_result",
     "data": {
      "text/plain": "  Symbol Series         Date  Prev Close  Open Price  High Price  Low Price  \\\n0   HDFC     EQ  15-May-2017     1549.80     1554.50     1572.60    1554.10   \n1   HDFC     W2  15-May-2017      204.45      217.95      217.95     205.00   \n2   HDFC     EQ  16-May-2017     1559.50     1558.00     1569.00    1554.00   \n3   HDFC     EQ  17-May-2017     1566.55     1565.50     1570.95    1549.75   \n4   HDFC     W2  17-May-2017      205.00      204.95      207.00     204.95   \n\n   Last Price  Close Price  Average Price  Total Traded Quantity  \\\n0      1561.0      1559.50        1562.62                1270297   \n1       205.0       205.00         209.50                  29200   \n2      1568.0      1566.55        1564.05                2114918   \n3      1550.1      1552.50        1557.08                2161434   \n4       207.0       207.00         205.75                  73000   \n\n       Turnover  No. of Trades  Deliverable Qty  % Dly Qt to Traded Qty  \n0  1.984990e+09          59917           955875                   75.25  \n1  6.117400e+06              4            29200                  100.00  \n2  3.307844e+09          79354          1652379                   78.13  \n3  3.365526e+09          80317          1794472                   83.02  \n4  1.501938e+07             10            73000                  100.00  ",
      "text/html": "<div>\n<style scoped>\n    .dataframe tbody tr th:only-of-type {\n        vertical-align: middle;\n    }\n\n    .dataframe tbody tr th {\n        vertical-align: top;\n    }\n\n    .dataframe thead th {\n        text-align: right;\n    }\n</style>\n<table border=\"1\" class=\"dataframe\">\n  <thead>\n    <tr style=\"text-align: right;\">\n      <th></th>\n      <th>Symbol</th>\n      <th>Series</th>\n      <th>Date</th>\n      <th>Prev Close</th>\n      <th>Open Price</th>\n      <th>High Price</th>\n      <th>Low Price</th>\n      <th>Last Price</th>\n      <th>Close Price</th>\n      <th>Average Price</th>\n      <th>Total Traded Quantity</th>\n      <th>Turnover</th>\n      <th>No. of Trades</th>\n      <th>Deliverable Qty</th>\n      <th>% Dly Qt to Traded Qty</th>\n    </tr>\n  </thead>\n  <tbody>\n    <tr>\n      <th>0</th>\n      <td>HDFC</td>\n      <td>EQ</td>\n      <td>15-May-2017</td>\n      <td>1549.80</td>\n      <td>1554.50</td>\n      <td>1572.60</td>\n      <td>1554.10</td>\n      <td>1561.0</td>\n      <td>1559.50</td>\n      <td>1562.62</td>\n      <td>1270297</td>\n      <td>1.984990e+09</td>\n      <td>59917</td>\n      <td>955875</td>\n      <td>75.25</td>\n    </tr>\n    <tr>\n      <th>1</th>\n      <td>HDFC</td>\n      <td>W2</td>\n      <td>15-May-2017</td>\n      <td>204.45</td>\n      <td>217.95</td>\n      <td>217.95</td>\n      <td>205.00</td>\n      <td>205.0</td>\n      <td>205.00</td>\n      <td>209.50</td>\n      <td>29200</td>\n      <td>6.117400e+06</td>\n      <td>4</td>\n      <td>29200</td>\n      <td>100.00</td>\n    </tr>\n    <tr>\n      <th>2</th>\n      <td>HDFC</td>\n      <td>EQ</td>\n      <td>16-May-2017</td>\n      <td>1559.50</td>\n      <td>1558.00</td>\n      <td>1569.00</td>\n      <td>1554.00</td>\n      <td>1568.0</td>\n      <td>1566.55</td>\n      <td>1564.05</td>\n      <td>2114918</td>\n      <td>3.307844e+09</td>\n      <td>79354</td>\n      <td>1652379</td>\n      <td>78.13</td>\n    </tr>\n    <tr>\n      <th>3</th>\n      <td>HDFC</td>\n      <td>EQ</td>\n      <td>17-May-2017</td>\n      <td>1566.55</td>\n      <td>1565.50</td>\n      <td>1570.95</td>\n      <td>1549.75</td>\n      <td>1550.1</td>\n      <td>1552.50</td>\n      <td>1557.08</td>\n      <td>2161434</td>\n      <td>3.365526e+09</td>\n      <td>80317</td>\n      <td>1794472</td>\n      <td>83.02</td>\n    </tr>\n    <tr>\n      <th>4</th>\n      <td>HDFC</td>\n      <td>W2</td>\n      <td>17-May-2017</td>\n      <td>205.00</td>\n      <td>204.95</td>\n      <td>207.00</td>\n      <td>204.95</td>\n      <td>207.0</td>\n      <td>207.00</td>\n      <td>205.75</td>\n      <td>73000</td>\n      <td>1.501938e+07</td>\n      <td>10</td>\n      <td>73000</td>\n      <td>100.00</td>\n    </tr>\n  </tbody>\n</table>\n</div>"
     },
     "metadata": {},
     "execution_count": 1
    }
   ],
   "source": [
    "import pandas as pd\n",
    "\n",
    "hdfc = pd.read_csv('HDFC.csv')\n",
    "df = hdfc\n",
    "df.head()"
   ]
  },
  {
   "cell_type": "code",
   "execution_count": 2,
   "metadata": {},
   "outputs": [
    {
     "output_type": "stream",
     "name": "stdout",
     "text": "<class 'pandas.core.frame.DataFrame'>\nRangeIndex: 829 entries, 0 to 828\nData columns (total 15 columns):\n #   Column                  Non-Null Count  Dtype  \n---  ------                  --------------  -----  \n 0   Symbol                  829 non-null    object \n 1   Series                  829 non-null    object \n 2   Date                    829 non-null    object \n 3   Prev Close              829 non-null    float64\n 4   Open Price              829 non-null    float64\n 5   High Price              829 non-null    float64\n 6   Low Price               829 non-null    float64\n 7   Last Price              829 non-null    float64\n 8   Close Price             829 non-null    float64\n 9   Average Price           829 non-null    float64\n 10  Total Traded Quantity   829 non-null    int64  \n 11  Turnover                829 non-null    float64\n 12  No. of Trades           829 non-null    int64  \n 13  Deliverable Qty         829 non-null    int64  \n 14  % Dly Qt to Traded Qty  829 non-null    float64\ndtypes: float64(9), int64(3), object(3)\nmemory usage: 97.3+ KB\n"
    }
   ],
   "source": [
    "df.info()"
   ]
  },
  {
   "cell_type": "markdown",
   "metadata": {},
   "source": [
    "## Section 1\n",
    "Remove rows with non 'EQ' series."
   ]
  },
  {
   "cell_type": "code",
   "execution_count": 3,
   "metadata": {},
   "outputs": [
    {
     "output_type": "execute_result",
     "data": {
      "text/plain": "array(['EQ', 'W2', 'BL'], dtype=object)"
     },
     "metadata": {},
     "execution_count": 3
    }
   ],
   "source": [
    "df['Series'].unique()"
   ]
  },
  {
   "cell_type": "code",
   "execution_count": 4,
   "metadata": {},
   "outputs": [
    {
     "output_type": "stream",
     "name": "stdout",
     "text": "<class 'pandas.core.frame.DataFrame'>\nInt64Index: 494 entries, 0 to 828\nData columns (total 15 columns):\n #   Column                  Non-Null Count  Dtype  \n---  ------                  --------------  -----  \n 0   Symbol                  494 non-null    object \n 1   Series                  494 non-null    object \n 2   Date                    494 non-null    object \n 3   Prev Close              494 non-null    float64\n 4   Open Price              494 non-null    float64\n 5   High Price              494 non-null    float64\n 6   Low Price               494 non-null    float64\n 7   Last Price              494 non-null    float64\n 8   Close Price             494 non-null    float64\n 9   Average Price           494 non-null    float64\n 10  Total Traded Quantity   494 non-null    int64  \n 11  Turnover                494 non-null    float64\n 12  No. of Trades           494 non-null    int64  \n 13  Deliverable Qty         494 non-null    int64  \n 14  % Dly Qt to Traded Qty  494 non-null    float64\ndtypes: float64(9), int64(3), object(3)\nmemory usage: 61.8+ KB\n"
    }
   ],
   "source": [
    "df = df[df['Series'] == 'EQ']\n",
    "df.info()"
   ]
  },
  {
   "cell_type": "markdown",
   "metadata": {},
   "source": [
    "## Section 2\n",
    "Analyse Close Prices"
   ]
  },
  {
   "cell_type": "code",
   "execution_count": 5,
   "metadata": {},
   "outputs": [
    {
     "output_type": "execute_result",
     "data": {
      "text/plain": "count     494.000000\nmean     1823.898077\nstd       120.794912\nmin      1511.500000\n25%      1731.425000\n50%      1829.025000\n75%      1929.187500\nmax      2069.150000\nName: Close Price, dtype: float64"
     },
     "metadata": {},
     "execution_count": 5
    }
   ],
   "source": [
    "df['Close Price'].describe()"
   ]
  },
  {
   "cell_type": "markdown",
   "metadata": {},
   "source": [
    "## Section 3\n",
    "Convert Date column to correct datatype"
   ]
  },
  {
   "cell_type": "code",
   "execution_count": 6,
   "metadata": {},
   "outputs": [
    {
     "output_type": "execute_result",
     "data": {
      "text/plain": "count             494\nunique            494\ntop       08-Nov-2017\nfreq                1\nName: Date, dtype: object"
     },
     "metadata": {},
     "execution_count": 6
    }
   ],
   "source": [
    "df['Date'].describe()"
   ]
  },
  {
   "cell_type": "code",
   "execution_count": 7,
   "metadata": {},
   "outputs": [],
   "source": [
    "df['Date'] = df['Date'].astype('datetime64')"
   ]
  },
  {
   "cell_type": "markdown",
   "metadata": {},
   "source": [
    "## Section 4\n",
    "Calculate VWAP"
   ]
  },
  {
   "cell_type": "code",
   "execution_count": 8,
   "metadata": {},
   "outputs": [],
   "source": [
    "df['Month'] = df['Date'].dt.month\n",
    "df['Year'] = df['Date'].dt.year"
   ]
  },
  {
   "cell_type": "code",
   "execution_count": 9,
   "metadata": {},
   "outputs": [
    {
     "output_type": "execute_result",
     "data": {
      "text/plain": "Year  Month\n2017  5        1551.310538\n      6        1632.487434\n      7        1669.570491\n      8        1744.280922\n      9        1763.431565\n      10       1728.358314\n      11       1715.691379\n      12       1694.765481\n2018  1        1847.126268\n      2        1826.146409\n      3        1812.936182\n      4        1844.511000\n      5        1863.444751\n      6        1858.946026\n      7        1961.480250\n      8        1944.221334\n      9        1837.029787\n      10       1717.892143\n      11       1857.391383\n      12       1944.531619\n2019  1        1961.019706\n      2        1907.079749\n      3        1934.225716\n      4        2006.661499\n      5        1964.280996\nName: VWAP, dtype: float64"
     },
     "metadata": {},
     "execution_count": 9
    }
   ],
   "source": [
    "df.assign(PV = lambda x: (x['Average Price'] * x['No. of Trades']))\\\n",
    "    .groupby(['Year', 'Month'])\\\n",
    "    .sum()\\\n",
    "    .assign(VWAP = lambda x: x['PV']/x['No. of Trades'])['VWAP']"
   ]
  },
  {
   "cell_type": "markdown",
   "metadata": {},
   "source": [
    "## Section 5\n",
    "Calculate average and percent change of last N"
   ]
  },
  {
   "cell_type": "code",
   "execution_count": 10,
   "metadata": {},
   "outputs": [],
   "source": [
    "def MovingAverageLastN(N: int, stock_df: pd.DataFrame) -> float:\n",
    "    if N > stock_df.shape[0]:\n",
    "        N = stock_df.shape[0]\n",
    "    return stock_df['Close Price'].rolling(N).mean().iloc[-1]"
   ]
  },
  {
   "cell_type": "code",
   "execution_count": 11,
   "metadata": {},
   "outputs": [],
   "source": [
    "def PLPercLastN(N: int, stock_df: pd.DataFrame) -> float:\n",
    "    start = stock_df['Close Price'].iloc[1] if N >= stock_df.shape[0] else stock_df['Close Price'].iloc[-N]\n",
    "    end = stock_df['Close Price'].iloc[-1]\n",
    "    return (start - end)*100/end"
   ]
  },
  {
   "cell_type": "code",
   "execution_count": 12,
   "metadata": {},
   "outputs": [
    {
     "output_type": "stream",
     "name": "stdout",
     "text": "Average Price   P_L_Perc\n1wk        1952.585714   2.739516\n2wks       1963.007143   0.051206\n1mth       1987.680000  -1.689795\n3mths      1955.255556   0.791131\n6mths      1904.292500  -0.583747\n1yr/max    1870.354658 -12.668339\n"
    }
   ],
   "source": [
    "calculations = {\"Average Price\": [MovingAverageLastN(n, df) for n in [7, 14, 30, 90, 180, 365]],\\\n",
    "                \"P_L_Perc\": [PLPercLastN(n, df) for n in [7, 14, 30, 90, 180, 365]]}\n",
    "\n",
    "print(pd.DataFrame(calculations, index = ['1wk', '2wks', '1mth', '3mths', '6mths', '1yr/max']))"
   ]
  },
  {
   "cell_type": "markdown",
   "metadata": {},
   "source": [
    "## Section 6\n",
    "Calculate daywise percentage"
   ]
  },
  {
   "cell_type": "code",
   "execution_count": 13,
   "metadata": {},
   "outputs": [],
   "source": [
    "df['Day_Perc_Change'] = df['Close Price'].pct_change() * 100"
   ]
  },
  {
   "cell_type": "markdown",
   "metadata": {},
   "source": [
    "Remove first row"
   ]
  },
  {
   "cell_type": "code",
   "execution_count": 14,
   "metadata": {},
   "outputs": [
    {
     "output_type": "execute_result",
     "data": {
      "text/plain": "Symbol                    False\nSeries                    False\nDate                      False\nPrev Close                False\nOpen Price                False\nHigh Price                False\nLow Price                 False\nLast Price                False\nClose Price               False\nAverage Price             False\nTotal Traded Quantity     False\nTurnover                  False\nNo. of Trades             False\nDeliverable Qty           False\n% Dly Qt to Traded Qty    False\nMonth                     False\nYear                      False\nDay_Perc_Change            True\ndtype: bool"
     },
     "metadata": {},
     "execution_count": 14
    }
   ],
   "source": [
    "df.isna().any(axis=0)"
   ]
  },
  {
   "cell_type": "markdown",
   "metadata": {},
   "source": [
    "The first value is NaN because on the first day has no percentage change"
   ]
  },
  {
   "cell_type": "code",
   "execution_count": 15,
   "metadata": {},
   "outputs": [],
   "source": [
    "df.fillna(0, inplace = True)"
   ]
  },
  {
   "cell_type": "markdown",
   "metadata": {},
   "source": [
    "## Section 7\n",
    "Calculate and add 'Trends' column"
   ]
  },
  {
   "cell_type": "code",
   "execution_count": 16,
   "metadata": {},
   "outputs": [],
   "source": [
    "bins = [-float(\"inf\"), -7, -3, -1, -0.5, 0.5, 1, 3, 7, float(\"inf\")]\n",
    "labels = ['Bear drop', 'Among top losers', 'Negative', 'Slight negative', 'Slight or no change', 'Slight positive', 'Positive', 'Among top gainers', 'Bull run']\n",
    "df['Trend'] = pd.cut(df['Day_Perc_Change'], bins = bins, right = False, labels = labels)"
   ]
  },
  {
   "cell_type": "code",
   "execution_count": 17,
   "metadata": {},
   "outputs": [
    {
     "output_type": "execute_result",
     "data": {
      "text/plain": "[Slight or no change, Slight negative, Negative, Slight positive, Among top gainers, Positive, Among top losers]\nCategories (7, object): [Among top losers < Negative < Slight negative < Slight or no change < Slight positive < Positive < Among top gainers]"
     },
     "metadata": {},
     "execution_count": 17
    }
   ],
   "source": [
    "df['Trend'].unique()"
   ]
  },
  {
   "cell_type": "markdown",
   "metadata": {},
   "source": [
    "Mean and Median Traded Quantity by Trend"
   ]
  },
  {
   "cell_type": "code",
   "execution_count": 18,
   "metadata": {},
   "outputs": [
    {
     "output_type": "execute_result",
     "data": {
      "text/plain": "Trend\nAmong top losers       4736399.5\nNegative               2807872.5\nSlight negative        2224803.0\nSlight or no change    2247984.0\nSlight positive        2434008.5\nPositive               2915465.5\nAmong top gainers      6450539.0\nName: Total Traded Quantity, dtype: float64"
     },
     "metadata": {},
     "execution_count": 18
    }
   ],
   "source": [
    "Median_Traded_Quantity = df.groupby('Trend')['Total Traded Quantity'].median().dropna()\n",
    "Median_Traded_Quantity"
   ]
  },
  {
   "cell_type": "code",
   "execution_count": 19,
   "metadata": {},
   "outputs": [
    {
     "output_type": "execute_result",
     "data": {
      "text/plain": "Trend\nAmong top losers       5.186927e+06\nNegative               3.028490e+06\nSlight negative        2.494395e+06\nSlight or no change    2.506236e+06\nSlight positive        2.583997e+06\nPositive               3.075714e+06\nAmong top gainers      6.352677e+06\nName: Total Traded Quantity, dtype: float64"
     },
     "metadata": {},
     "execution_count": 19
    }
   ],
   "source": [
    "Mean_Traded_Quantity = df.groupby('Trend')['Total Traded Quantity'].mean().dropna()\n",
    "Mean_Traded_Quantity"
   ]
  },
  {
   "cell_type": "code",
   "execution_count": 20,
   "metadata": {},
   "outputs": [],
   "source": [
    "df.to_csv('week2.csv')"
   ]
  },
  {
   "cell_type": "code",
   "execution_count": null,
   "metadata": {},
   "outputs": [],
   "source": []
  },
  {
   "cell_type": "code",
   "execution_count": null,
   "metadata": {},
   "outputs": [],
   "source": []
  }
 ],
 "metadata": {
  "language_info": {
   "codemirror_mode": {
    "name": "ipython",
    "version": 3
   },
   "file_extension": ".py",
   "mimetype": "text/x-python",
   "name": "python",
   "nbconvert_exporter": "python",
   "pygments_lexer": "ipython3",
   "version": "3.7.6-final"
  },
  "orig_nbformat": 2,
  "kernelspec": {
   "name": "python37664bitd2f58a4918ec49a6be3098fab8dcc577",
   "display_name": "Python 3.7.6 64-bit"
  }
 },
 "nbformat": 4,
 "nbformat_minor": 2
}