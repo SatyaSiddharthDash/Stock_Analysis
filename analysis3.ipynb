{
 "cells": [
  {
   "cell_type": "markdown",
   "metadata": {},
   "source": [
    "# Week 3\n",
    "\n",
    "### Section 3"
   ]
  },
  {
   "cell_type": "markdown",
   "metadata": {},
   "source": [
    "##### Read in Gold data"
   ]
  },
  {
   "cell_type": "code",
   "execution_count": 231,
   "metadata": {},
   "outputs": [],
   "source": [
    "import pandas as pd"
   ]
  },
  {
   "cell_type": "code",
   "execution_count": 232,
   "metadata": {},
   "outputs": [
    {
     "data": {
      "text/html": [
       "<div>\n",
       "<style scoped>\n",
       "    .dataframe tbody tr th:only-of-type {\n",
       "        vertical-align: middle;\n",
       "    }\n",
       "\n",
       "    .dataframe tbody tr th {\n",
       "        vertical-align: top;\n",
       "    }\n",
       "\n",
       "    .dataframe thead th {\n",
       "        text-align: right;\n",
       "    }\n",
       "</style>\n",
       "<table border=\"1\" class=\"dataframe\">\n",
       "  <thead>\n",
       "    <tr style=\"text-align: right;\">\n",
       "      <th></th>\n",
       "      <th>Date</th>\n",
       "      <th>Price</th>\n",
       "      <th>Open</th>\n",
       "      <th>High</th>\n",
       "      <th>Low</th>\n",
       "      <th>Vol.</th>\n",
       "      <th>Change %</th>\n",
       "      <th>Pred</th>\n",
       "      <th>new</th>\n",
       "    </tr>\n",
       "  </thead>\n",
       "  <tbody>\n",
       "    <tr>\n",
       "      <th>0</th>\n",
       "      <td>May 04, 2017</td>\n",
       "      <td>28060</td>\n",
       "      <td>28400</td>\n",
       "      <td>28482</td>\n",
       "      <td>28025</td>\n",
       "      <td>0.08K</td>\n",
       "      <td>-1.79%</td>\n",
       "      <td>738.0</td>\n",
       "      <td>117.570740</td>\n",
       "    </tr>\n",
       "    <tr>\n",
       "      <th>1</th>\n",
       "      <td>May 05, 2017</td>\n",
       "      <td>28184</td>\n",
       "      <td>28136</td>\n",
       "      <td>28382</td>\n",
       "      <td>28135</td>\n",
       "      <td>0.06K</td>\n",
       "      <td>0.44%</td>\n",
       "      <td>-146.0</td>\n",
       "      <td>295.430176</td>\n",
       "    </tr>\n",
       "    <tr>\n",
       "      <th>2</th>\n",
       "      <td>May 08, 2017</td>\n",
       "      <td>28119</td>\n",
       "      <td>28145</td>\n",
       "      <td>28255</td>\n",
       "      <td>28097</td>\n",
       "      <td>7.85K</td>\n",
       "      <td>-0.23%</td>\n",
       "      <td>30.0</td>\n",
       "      <td>132.123714</td>\n",
       "    </tr>\n",
       "    <tr>\n",
       "      <th>3</th>\n",
       "      <td>May 09, 2017</td>\n",
       "      <td>27981</td>\n",
       "      <td>28125</td>\n",
       "      <td>28192</td>\n",
       "      <td>27947</td>\n",
       "      <td>10.10K</td>\n",
       "      <td>-0.49%</td>\n",
       "      <td>357.0</td>\n",
       "      <td>101.298064</td>\n",
       "    </tr>\n",
       "    <tr>\n",
       "      <th>4</th>\n",
       "      <td>May 10, 2017</td>\n",
       "      <td>28007</td>\n",
       "      <td>28060</td>\n",
       "      <td>28146</td>\n",
       "      <td>27981</td>\n",
       "      <td>9.28K</td>\n",
       "      <td>0.09%</td>\n",
       "      <td>124.0</td>\n",
       "      <td>112.153318</td>\n",
       "    </tr>\n",
       "  </tbody>\n",
       "</table>\n",
       "</div>"
      ],
      "text/plain": [
       "           Date  Price   Open   High    Low    Vol. Change %   Pred  \\\n",
       "0  May 04, 2017  28060  28400  28482  28025   0.08K   -1.79%  738.0   \n",
       "1  May 05, 2017  28184  28136  28382  28135   0.06K    0.44% -146.0   \n",
       "2  May 08, 2017  28119  28145  28255  28097   7.85K   -0.23%   30.0   \n",
       "3  May 09, 2017  27981  28125  28192  27947  10.10K   -0.49%  357.0   \n",
       "4  May 10, 2017  28007  28060  28146  27981   9.28K    0.09%  124.0   \n",
       "\n",
       "          new  \n",
       "0  117.570740  \n",
       "1  295.430176  \n",
       "2  132.123714  \n",
       "3  101.298064  \n",
       "4  112.153318  "
      ]
     },
     "execution_count": 232,
     "metadata": {},
     "output_type": "execute_result"
    }
   ],
   "source": [
    "df = pd.read_csv('GOLD.csv')\n",
    "df.head()"
   ]
  },
  {
   "cell_type": "markdown",
   "metadata": {},
   "source": [
    "#### Number of missing values in each column:"
   ]
  },
  {
   "cell_type": "code",
   "execution_count": 233,
   "metadata": {},
   "outputs": [
    {
     "data": {
      "text/plain": [
       "Date          0\n",
       "Price         0\n",
       "Open          0\n",
       "High          0\n",
       "Low           0\n",
       "Vol.          0\n",
       "Change %      0\n",
       "Pred        101\n",
       "new           0\n",
       "dtype: int64"
      ]
     },
     "execution_count": 233,
     "metadata": {},
     "output_type": "execute_result"
    }
   ],
   "source": [
    "df.isna().sum()"
   ]
  },
  {
   "cell_type": "code",
   "execution_count": 234,
   "metadata": {},
   "outputs": [
    {
     "data": {
      "text/plain": [
       "(512, 9)"
      ]
     },
     "execution_count": 234,
     "metadata": {},
     "output_type": "execute_result"
    }
   ],
   "source": [
    "df.shape"
   ]
  },
  {
   "cell_type": "code",
   "execution_count": 235,
   "metadata": {},
   "outputs": [
    {
     "data": {
      "text/plain": [
       "(411, 9)"
      ]
     },
     "execution_count": 235,
     "metadata": {},
     "output_type": "execute_result"
    }
   ],
   "source": [
    "df_train = df.dropna()\n",
    "df_train.shape"
   ]
  },
  {
   "cell_type": "markdown",
   "metadata": {},
   "source": [
    "#### Linear regression to predict 'new' column"
   ]
  },
  {
   "cell_type": "code",
   "execution_count": 236,
   "metadata": {},
   "outputs": [
    {
     "name": "stdout",
     "output_type": "stream",
     "text": [
      "Sum of sqare errors: 245.29512134007808\n",
      "MSE: 0.9999886649319772\n"
     ]
    }
   ],
   "source": [
    "from sklearn.linear_model import LinearRegression\n",
    "\n",
    "lm = LinearRegression()\n",
    "X = df[['Open', 'High', 'Low', 'Price']]\n",
    "y = df['new']\n",
    "Y = lm.fit(X, y).predict(X)\n",
    "print(f'Sum of sqare errors: {sum((Y - y)**2)}')\n",
    "print(f'MSE: {lm.fit(X, y).score(X, y)}')"
   ]
  },
  {
   "cell_type": "markdown",
   "metadata": {},
   "source": [
    "#### Linear regression to predict 'Pred' column"
   ]
  },
  {
   "cell_type": "code",
   "execution_count": 237,
   "metadata": {},
   "outputs": [
    {
     "name": "stdout",
     "output_type": "stream",
     "text": [
      "Sum of sqare errors: 7.163083605502316e-21\n",
      "MSE: 1.0\n"
     ]
    }
   ],
   "source": [
    "X = df_train[['Open', 'High', 'Low', 'Price']]\n",
    "y = df_train['Pred']\n",
    "Y = lm.fit(X, y).predict(X)\n",
    "print(f'Sum of sqare errors: {sum((Y - y)**2)}')\n",
    "print(f'MSE: {lm.fit(X, y).score(X, y)}')"
   ]
  },
  {
   "cell_type": "markdown",
   "metadata": {},
   "source": [
    "This clearly shows that the 'Pred' column is a linear combination of the OHLC columns.\n",
    "And, the 'new' column is not."
   ]
  },
  {
   "cell_type": "markdown",
   "metadata": {},
   "source": [
    "#### Predicting missing values for 'Pred' column"
   ]
  },
  {
   "cell_type": "code",
   "execution_count": 238,
   "metadata": {},
   "outputs": [
    {
     "data": {
      "text/html": [
       "<div>\n",
       "<style scoped>\n",
       "    .dataframe tbody tr th:only-of-type {\n",
       "        vertical-align: middle;\n",
       "    }\n",
       "\n",
       "    .dataframe tbody tr th {\n",
       "        vertical-align: top;\n",
       "    }\n",
       "\n",
       "    .dataframe thead th {\n",
       "        text-align: right;\n",
       "    }\n",
       "</style>\n",
       "<table border=\"1\" class=\"dataframe\">\n",
       "  <thead>\n",
       "    <tr style=\"text-align: right;\">\n",
       "      <th></th>\n",
       "      <th>Date</th>\n",
       "      <th>Price</th>\n",
       "      <th>Open</th>\n",
       "      <th>High</th>\n",
       "      <th>Low</th>\n",
       "      <th>Vol.</th>\n",
       "      <th>Change %</th>\n",
       "      <th>Pred</th>\n",
       "      <th>new</th>\n",
       "    </tr>\n",
       "  </thead>\n",
       "  <tbody>\n",
       "    <tr>\n",
       "      <th>411</th>\n",
       "      <td>Dec 11, 2018</td>\n",
       "      <td>31812</td>\n",
       "      <td>31850</td>\n",
       "      <td>31850</td>\n",
       "      <td>31618</td>\n",
       "      <td>10.53K</td>\n",
       "      <td>-0.26%</td>\n",
       "      <td>852.0</td>\n",
       "      <td>195.423493</td>\n",
       "    </tr>\n",
       "    <tr>\n",
       "      <th>412</th>\n",
       "      <td>Dec 12, 2018</td>\n",
       "      <td>31626</td>\n",
       "      <td>31749</td>\n",
       "      <td>31749</td>\n",
       "      <td>31582</td>\n",
       "      <td>7.57K</td>\n",
       "      <td>-0.58%</td>\n",
       "      <td>422.0</td>\n",
       "      <td>44.232664</td>\n",
       "    </tr>\n",
       "    <tr>\n",
       "      <th>413</th>\n",
       "      <td>Dec 13, 2018</td>\n",
       "      <td>31414</td>\n",
       "      <td>31550</td>\n",
       "      <td>31600</td>\n",
       "      <td>31337</td>\n",
       "      <td>8.43K</td>\n",
       "      <td>-0.67%</td>\n",
       "      <td>530.0</td>\n",
       "      <td>127.646233</td>\n",
       "    </tr>\n",
       "    <tr>\n",
       "      <th>414</th>\n",
       "      <td>Dec 14, 2018</td>\n",
       "      <td>31437</td>\n",
       "      <td>31440</td>\n",
       "      <td>31514</td>\n",
       "      <td>31384</td>\n",
       "      <td>6.75K</td>\n",
       "      <td>0.07%</td>\n",
       "      <td>144.0</td>\n",
       "      <td>127.219539</td>\n",
       "    </tr>\n",
       "    <tr>\n",
       "      <th>415</th>\n",
       "      <td>Dec 17, 2018</td>\n",
       "      <td>31501</td>\n",
       "      <td>31369</td>\n",
       "      <td>31530</td>\n",
       "      <td>31291</td>\n",
       "      <td>5.97K</td>\n",
       "      <td>0.20%</td>\n",
       "      <td>415.0</td>\n",
       "      <td>372.603976</td>\n",
       "    </tr>\n",
       "    <tr>\n",
       "      <th>...</th>\n",
       "      <td>...</td>\n",
       "      <td>...</td>\n",
       "      <td>...</td>\n",
       "      <td>...</td>\n",
       "      <td>...</td>\n",
       "      <td>...</td>\n",
       "      <td>...</td>\n",
       "      <td>...</td>\n",
       "      <td>...</td>\n",
       "    </tr>\n",
       "    <tr>\n",
       "      <th>507</th>\n",
       "      <td>Apr 26, 2019</td>\n",
       "      <td>31868</td>\n",
       "      <td>31851</td>\n",
       "      <td>31934</td>\n",
       "      <td>31705</td>\n",
       "      <td>9.67K</td>\n",
       "      <td>0.08%</td>\n",
       "      <td>535.0</td>\n",
       "      <td>247.177322</td>\n",
       "    </tr>\n",
       "    <tr>\n",
       "      <th>508</th>\n",
       "      <td>Apr 30, 2019</td>\n",
       "      <td>31625</td>\n",
       "      <td>31800</td>\n",
       "      <td>31824</td>\n",
       "      <td>31597</td>\n",
       "      <td>6.44K</td>\n",
       "      <td>-0.76%</td>\n",
       "      <td>438.0</td>\n",
       "      <td>52.201158</td>\n",
       "    </tr>\n",
       "    <tr>\n",
       "      <th>509</th>\n",
       "      <td>May 01, 2019</td>\n",
       "      <td>31563</td>\n",
       "      <td>31604</td>\n",
       "      <td>31657</td>\n",
       "      <td>31503</td>\n",
       "      <td>1.55K</td>\n",
       "      <td>-0.20%</td>\n",
       "      <td>269.0</td>\n",
       "      <td>113.293305</td>\n",
       "    </tr>\n",
       "    <tr>\n",
       "      <th>510</th>\n",
       "      <td>May 02, 2019</td>\n",
       "      <td>31203</td>\n",
       "      <td>31420</td>\n",
       "      <td>31425</td>\n",
       "      <td>31160</td>\n",
       "      <td>0.48K</td>\n",
       "      <td>-1.14%</td>\n",
       "      <td>601.0</td>\n",
       "      <td>48.365693</td>\n",
       "    </tr>\n",
       "    <tr>\n",
       "      <th>511</th>\n",
       "      <td>May 03, 2019</td>\n",
       "      <td>31341</td>\n",
       "      <td>31250</td>\n",
       "      <td>31500</td>\n",
       "      <td>31163</td>\n",
       "      <td>0.08K</td>\n",
       "      <td>0.44%</td>\n",
       "      <td>280.0</td>\n",
       "      <td>429.924911</td>\n",
       "    </tr>\n",
       "  </tbody>\n",
       "</table>\n",
       "<p>101 rows × 9 columns</p>\n",
       "</div>"
      ],
      "text/plain": [
       "             Date  Price   Open   High    Low    Vol. Change %   Pred  \\\n",
       "411  Dec 11, 2018  31812  31850  31850  31618  10.53K   -0.26%  852.0   \n",
       "412  Dec 12, 2018  31626  31749  31749  31582   7.57K   -0.58%  422.0   \n",
       "413  Dec 13, 2018  31414  31550  31600  31337   8.43K   -0.67%  530.0   \n",
       "414  Dec 14, 2018  31437  31440  31514  31384   6.75K    0.07%  144.0   \n",
       "415  Dec 17, 2018  31501  31369  31530  31291   5.97K    0.20%  415.0   \n",
       "..            ...    ...    ...    ...    ...     ...      ...    ...   \n",
       "507  Apr 26, 2019  31868  31851  31934  31705   9.67K    0.08%  535.0   \n",
       "508  Apr 30, 2019  31625  31800  31824  31597   6.44K   -0.76%  438.0   \n",
       "509  May 01, 2019  31563  31604  31657  31503   1.55K   -0.20%  269.0   \n",
       "510  May 02, 2019  31203  31420  31425  31160   0.48K   -1.14%  601.0   \n",
       "511  May 03, 2019  31341  31250  31500  31163   0.08K    0.44%  280.0   \n",
       "\n",
       "            new  \n",
       "411  195.423493  \n",
       "412   44.232664  \n",
       "413  127.646233  \n",
       "414  127.219539  \n",
       "415  372.603976  \n",
       "..          ...  \n",
       "507  247.177322  \n",
       "508   52.201158  \n",
       "509  113.293305  \n",
       "510   48.365693  \n",
       "511  429.924911  \n",
       "\n",
       "[101 rows x 9 columns]"
      ]
     },
     "execution_count": 238,
     "metadata": {},
     "output_type": "execute_result"
    }
   ],
   "source": [
    "missing = df[df['Pred'].isna()].copy()\n",
    "missing['Pred'] = lm.predict(missing[['Open', 'High', 'Low', 'Price']])\n",
    "missing"
   ]
  },
  {
   "cell_type": "markdown",
   "metadata": {},
   "source": [
    "#### Heatmaps"
   ]
  },
  {
   "cell_type": "code",
   "execution_count": 239,
   "metadata": {},
   "outputs": [
    {
     "data": {
      "image/svg+xml": [
       "<svg class=\"main-svg\" xmlns=\"http://www.w3.org/2000/svg\" xmlns:xlink=\"http://www.w3.org/1999/xlink\" width=\"700\" height=\"450\" style=\"\" viewBox=\"0 0 700 450\"><rect x=\"0\" y=\"0\" width=\"700\" height=\"450\" style=\"fill: rgb(255, 255, 255); fill-opacity: 1;\"/><defs id=\"defs-20a5b6\"><g class=\"clips\"><clipPath id=\"clip20a5b6xyplot\" class=\"plotclip\"><rect width=\"310\" height=\"310\"/></clipPath><clipPath class=\"axesclip\" id=\"clip20a5b6x\"><rect x=\"189\" y=\"0\" width=\"310\" height=\"450\"/></clipPath><clipPath class=\"axesclip\" id=\"clip20a5b6y\"><rect x=\"0\" y=\"60\" width=\"700\" height=\"310\"/></clipPath><clipPath class=\"axesclip\" id=\"clip20a5b6xy\"><rect x=\"189\" y=\"60\" width=\"310\" height=\"310\"/></clipPath></g><g class=\"gradients\"><linearGradient x1=\"0\" x2=\"0\" y1=\"1\" y2=\"0\" id=\"g20a5b6-cbcoloraxis\"><stop offset=\"0%\" stop-color=\"rgb(13, 8, 135)\" stop-opacity=\"1\"/><stop offset=\"11.11111111111111%\" stop-color=\"rgb(70, 3, 159)\" stop-opacity=\"1\"/><stop offset=\"22.22222222222222%\" stop-color=\"rgb(114, 1, 168)\" stop-opacity=\"1\"/><stop offset=\"33.33333333333333%\" stop-color=\"rgb(156, 23, 158)\" stop-opacity=\"1\"/><stop offset=\"44.44444444444444%\" stop-color=\"rgb(189, 55, 134)\" stop-opacity=\"1\"/><stop offset=\"55.55555555555556%\" stop-color=\"rgb(216, 87, 107)\" stop-opacity=\"1\"/><stop offset=\"66.66666666666666%\" stop-color=\"rgb(237, 121, 83)\" stop-opacity=\"1\"/><stop offset=\"77.77777777777779%\" stop-color=\"rgb(251, 159, 58)\" stop-opacity=\"1\"/><stop offset=\"88.88888888888889%\" stop-color=\"rgb(253, 202, 38)\" stop-opacity=\"1\"/><stop offset=\"100%\" stop-color=\"rgb(240, 249, 33)\" stop-opacity=\"1\"/></linearGradient></g></defs><g class=\"bglayer\"><rect class=\"bg\" x=\"189\" y=\"60\" width=\"310\" height=\"310\" style=\"fill: rgb(229, 236, 246); fill-opacity: 1; stroke-width: 0;\"/></g><g class=\"layer-below\"><g class=\"imagelayer\"/><g class=\"shapelayer\"/></g><g class=\"cartesianlayer\"><g class=\"subplot xy\"><g class=\"layer-subplot\"><g class=\"shapelayer\"/><g class=\"imagelayer\"/></g><g class=\"gridlayer\"><g class=\"x\"><path class=\"xgrid crisp\" transform=\"translate(206.22,0)\" d=\"M0,60v310\" style=\"stroke: rgb(255, 255, 255); stroke-opacity: 1; stroke-width: 1px;\"/><path class=\"xgrid crisp\" transform=\"translate(240.67000000000002,0)\" d=\"M0,60v310\" style=\"stroke: rgb(255, 255, 255); stroke-opacity: 1; stroke-width: 1px;\"/><path class=\"xgrid crisp\" transform=\"translate(275.11,0)\" d=\"M0,60v310\" style=\"stroke: rgb(255, 255, 255); stroke-opacity: 1; stroke-width: 1px;\"/><path class=\"xgrid crisp\" transform=\"translate(309.56,0)\" d=\"M0,60v310\" style=\"stroke: rgb(255, 255, 255); stroke-opacity: 1; stroke-width: 1px;\"/><path class=\"xgrid crisp\" transform=\"translate(344,0)\" d=\"M0,60v310\" style=\"stroke: rgb(255, 255, 255); stroke-opacity: 1; stroke-width: 1px;\"/><path class=\"xgrid crisp\" transform=\"translate(378.44,0)\" d=\"M0,60v310\" style=\"stroke: rgb(255, 255, 255); stroke-opacity: 1; stroke-width: 1px;\"/><path class=\"xgrid crisp\" transform=\"translate(412.89,0)\" d=\"M0,60v310\" style=\"stroke: rgb(255, 255, 255); stroke-opacity: 1; stroke-width: 1px;\"/><path class=\"xgrid crisp\" transform=\"translate(447.33,0)\" d=\"M0,60v310\" style=\"stroke: rgb(255, 255, 255); stroke-opacity: 1; stroke-width: 1px;\"/><path class=\"xgrid crisp\" transform=\"translate(481.78,0)\" d=\"M0,60v310\" style=\"stroke: rgb(255, 255, 255); stroke-opacity: 1; stroke-width: 1px;\"/></g><g class=\"y\"><path class=\"ygrid crisp\" transform=\"translate(0,352.78)\" d=\"M189,0h310\" style=\"stroke: rgb(255, 255, 255); stroke-opacity: 1; stroke-width: 1px;\"/><path class=\"ygrid crisp\" transform=\"translate(0,318.33)\" d=\"M189,0h310\" style=\"stroke: rgb(255, 255, 255); stroke-opacity: 1; stroke-width: 1px;\"/><path class=\"ygrid crisp\" transform=\"translate(0,283.89)\" d=\"M189,0h310\" style=\"stroke: rgb(255, 255, 255); stroke-opacity: 1; stroke-width: 1px;\"/><path class=\"ygrid crisp\" transform=\"translate(0,249.44)\" d=\"M189,0h310\" style=\"stroke: rgb(255, 255, 255); stroke-opacity: 1; stroke-width: 1px;\"/><path class=\"ygrid crisp\" transform=\"translate(0,215)\" d=\"M189,0h310\" style=\"stroke: rgb(255, 255, 255); stroke-opacity: 1; stroke-width: 1px;\"/><path class=\"ygrid crisp\" transform=\"translate(0,180.56)\" d=\"M189,0h310\" style=\"stroke: rgb(255, 255, 255); stroke-opacity: 1; stroke-width: 1px;\"/><path class=\"ygrid crisp\" transform=\"translate(0,146.11)\" d=\"M189,0h310\" style=\"stroke: rgb(255, 255, 255); stroke-opacity: 1; stroke-width: 1px;\"/><path class=\"ygrid crisp\" transform=\"translate(0,111.67)\" d=\"M189,0h310\" style=\"stroke: rgb(255, 255, 255); stroke-opacity: 1; stroke-width: 1px;\"/><path class=\"ygrid crisp\" transform=\"translate(0,77.22)\" d=\"M189,0h310\" style=\"stroke: rgb(255, 255, 255); stroke-opacity: 1; stroke-width: 1px;\"/></g></g><g class=\"zerolinelayer\"/><path class=\"xlines-below\"/><path class=\"ylines-below\"/><g class=\"overlines-below\"/><g class=\"xaxislayer-below\"/><g class=\"yaxislayer-below\"/><g class=\"overaxes-below\"/><g class=\"plot\" transform=\"translate(189, 60)\" clip-path=\"url('#clip20a5b6xyplot')\"><g class=\"heatmaplayer mlayer\"><g class=\"hm\"><image xmlns=\"http://www.w3.org/2000/svg\" preserveAspectRatio=\"none\" height=\"310\" width=\"310\" x=\"0\" y=\"0\" xlink:href=\"data:image/png;base64,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\" style=\"opacity: 1;\"/></g></g></g><g class=\"overplot\"/><path class=\"xlines-above crisp\" style=\"fill: none;\" d=\"M0,0\"/><path class=\"ylines-above crisp\" style=\"fill: none;\" d=\"M0,0\"/><g class=\"overlines-above\"/><g class=\"xaxislayer-above\"><g class=\"xtick\"><text text-anchor=\"start\" x=\"0\" y=\"383\" transform=\"translate(206.22,0) rotate(30,0,377)\" style=\"font-family: 'Open Sans', verdana, arial, sans-serif; font-size: 12px; fill: rgb(42, 63, 95); fill-opacity: 1; white-space: pre;\">square_Open</text></g><g class=\"xtick\"><text text-anchor=\"start\" x=\"0\" y=\"383\" transform=\"translate(240.67000000000002,0) rotate(30,0,377)\" style=\"font-family: 'Open Sans', verdana, arial, sans-serif; font-size: 12px; fill: rgb(42, 63, 95); fill-opacity: 1; white-space: pre;\">square_High</text></g><g class=\"xtick\"><text text-anchor=\"start\" x=\"0\" y=\"383\" transform=\"translate(275.11,0) rotate(30,0,377)\" style=\"font-family: 'Open Sans', verdana, arial, sans-serif; font-size: 12px; fill: rgb(42, 63, 95); fill-opacity: 1; white-space: pre;\">square_Low</text></g><g class=\"xtick\"><text text-anchor=\"start\" x=\"0\" y=\"383\" transform=\"translate(309.56,0) rotate(30,0,377)\" style=\"font-family: 'Open Sans', verdana, arial, sans-serif; font-size: 12px; fill: rgb(42, 63, 95); fill-opacity: 1; white-space: pre;\">square_Price</text></g><g class=\"xtick\"><text text-anchor=\"start\" x=\"0\" y=\"383\" transform=\"translate(344,0) rotate(30,0,377)\" style=\"font-family: 'Open Sans', verdana, arial, sans-serif; font-size: 12px; fill: rgb(42, 63, 95); fill-opacity: 1; white-space: pre;\">Open</text></g><g class=\"xtick\"><text text-anchor=\"start\" x=\"0\" y=\"383\" transform=\"translate(378.44,0) rotate(30,0,377)\" style=\"font-family: 'Open Sans', verdana, arial, sans-serif; font-size: 12px; fill: rgb(42, 63, 95); fill-opacity: 1; white-space: pre;\">High</text></g><g class=\"xtick\"><text text-anchor=\"start\" x=\"0\" y=\"383\" transform=\"translate(412.89,0) rotate(30,0,377)\" style=\"font-family: 'Open Sans', verdana, arial, sans-serif; font-size: 12px; fill: rgb(42, 63, 95); fill-opacity: 1; white-space: pre;\">Low</text></g><g class=\"xtick\"><text text-anchor=\"start\" x=\"0\" y=\"383\" transform=\"translate(447.33,0) rotate(30,0,377)\" style=\"font-family: 'Open Sans', verdana, arial, sans-serif; font-size: 12px; fill: rgb(42, 63, 95); fill-opacity: 1; white-space: pre;\">Price</text></g><g class=\"xtick\"><text text-anchor=\"start\" x=\"0\" y=\"383\" transform=\"translate(481.78,0) rotate(30,0,377)\" style=\"font-family: 'Open Sans', verdana, arial, sans-serif; font-size: 12px; fill: rgb(42, 63, 95); fill-opacity: 1; white-space: pre;\">new</text></g></g><g class=\"yaxislayer-above\"><g class=\"ytick\"><text text-anchor=\"end\" x=\"188\" y=\"4.199999999999999\" transform=\"translate(0,352.78)\" style=\"font-family: 'Open Sans', verdana, arial, sans-serif; font-size: 12px; fill: rgb(42, 63, 95); fill-opacity: 1; white-space: pre;\">new</text></g><g class=\"ytick\"><text text-anchor=\"end\" x=\"188\" y=\"4.199999999999999\" transform=\"translate(0,318.33)\" style=\"font-family: 'Open Sans', verdana, arial, sans-serif; font-size: 12px; fill: rgb(42, 63, 95); fill-opacity: 1; white-space: pre;\">Price</text></g><g class=\"ytick\"><text text-anchor=\"end\" x=\"188\" y=\"4.199999999999999\" transform=\"translate(0,283.89)\" style=\"font-family: 'Open Sans', verdana, arial, sans-serif; font-size: 12px; fill: rgb(42, 63, 95); fill-opacity: 1; white-space: pre;\">Low</text></g><g class=\"ytick\"><text text-anchor=\"end\" x=\"188\" y=\"4.199999999999999\" transform=\"translate(0,249.44)\" style=\"font-family: 'Open Sans', verdana, arial, sans-serif; font-size: 12px; fill: rgb(42, 63, 95); fill-opacity: 1; white-space: pre;\">High</text></g><g class=\"ytick\"><text text-anchor=\"end\" x=\"188\" y=\"4.199999999999999\" transform=\"translate(0,215)\" style=\"font-family: 'Open Sans', verdana, arial, sans-serif; font-size: 12px; fill: rgb(42, 63, 95); fill-opacity: 1; white-space: pre;\">Open</text></g><g class=\"ytick\"><text text-anchor=\"end\" x=\"188\" y=\"4.199999999999999\" transform=\"translate(0,180.56)\" style=\"font-family: 'Open Sans', verdana, arial, sans-serif; font-size: 12px; fill: rgb(42, 63, 95); fill-opacity: 1; white-space: pre;\">square_Price</text></g><g class=\"ytick\"><text text-anchor=\"end\" x=\"188\" y=\"4.199999999999999\" transform=\"translate(0,146.11)\" style=\"font-family: 'Open Sans', verdana, arial, sans-serif; font-size: 12px; fill: rgb(42, 63, 95); fill-opacity: 1; white-space: pre;\">square_Low</text></g><g class=\"ytick\"><text text-anchor=\"end\" x=\"188\" y=\"4.199999999999999\" transform=\"translate(0,111.67)\" style=\"font-family: 'Open Sans', verdana, arial, sans-serif; font-size: 12px; fill: rgb(42, 63, 95); fill-opacity: 1; white-space: pre;\">square_High</text></g><g class=\"ytick\"><text text-anchor=\"end\" x=\"188\" y=\"4.199999999999999\" transform=\"translate(0,77.22)\" style=\"font-family: 'Open Sans', verdana, arial, sans-serif; font-size: 12px; fill: rgb(42, 63, 95); fill-opacity: 1; white-space: pre;\">square_Open</text></g></g><g class=\"overaxes-above\"/></g></g><g class=\"polarlayer\"/><g class=\"ternarylayer\"/><g class=\"geolayer\"/><g class=\"funnelarealayer\"/><g class=\"pielayer\"/><g class=\"treemaplayer\"/><g class=\"sunburstlayer\"/><g class=\"glimages\"/><defs id=\"topdefs-20a5b6\"><g class=\"clips\"/></defs><g class=\"layer-above\"><g class=\"imagelayer\"/><g class=\"shapelayer\"/></g><g class=\"infolayer\"><g class=\"cbcoloraxis colorbar\" transform=\"translate(80,60)\"><rect class=\"cbbg\" x=\"539\" y=\"0\" width=\"69.640625\" height=\"310\" style=\"fill: rgb(0, 0, 0); fill-opacity: 0; stroke: rgb(68, 68, 68); stroke-opacity: 1; stroke-width: 0;\"/><g class=\"cbfills\" transform=\"translate(0,10)\"><rect class=\"cbfill\" x=\"549\" width=\"30\" y=\"0\" height=\"290\" style=\"stroke: none; fill: url('#g20a5b6-cbcoloraxis');\"/></g><g class=\"cblines\" transform=\"translate(0,10)\"/><g class=\"cbaxis crisp\" transform=\"translate(0,-60)\"><g class=\"ycbcoloraxistick\"><text text-anchor=\"start\" x=\"581.9\" y=\"4.199999999999999\" transform=\"translate(0,316.38)\" style=\"font-family: 'Open Sans', verdana, arial, sans-serif; font-size: 12px; fill: rgb(42, 63, 95); fill-opacity: 1; white-space: pre;\">0.2</text></g><g class=\"ycbcoloraxistick\"><text text-anchor=\"start\" x=\"581.9\" y=\"4.199999999999999\" transform=\"translate(0,254.77999999999997)\" style=\"font-family: 'Open Sans', verdana, arial, sans-serif; font-size: 12px; fill: rgb(42, 63, 95); fill-opacity: 1; white-space: pre;\">0.4</text></g><g class=\"ycbcoloraxistick\"><text text-anchor=\"start\" x=\"581.9\" y=\"4.199999999999999\" transform=\"translate(0,193.19)\" style=\"font-family: 'Open Sans', verdana, arial, sans-serif; font-size: 12px; fill: rgb(42, 63, 95); fill-opacity: 1; white-space: pre;\">0.6</text></g><g class=\"ycbcoloraxistick\"><text text-anchor=\"start\" x=\"581.9\" y=\"4.199999999999999\" transform=\"translate(0,131.58999999999997)\" style=\"font-family: 'Open Sans', verdana, arial, sans-serif; font-size: 12px; fill: rgb(42, 63, 95); fill-opacity: 1; white-space: pre;\">0.8</text></g><g class=\"ycbcoloraxistick\"><text text-anchor=\"start\" x=\"581.9\" y=\"4.199999999999999\" transform=\"translate(0,69.99999999999999)\" style=\"font-family: 'Open Sans', verdana, arial, sans-serif; font-size: 12px; fill: rgb(42, 63, 95); fill-opacity: 1; white-space: pre;\">1</text></g></g><g class=\"cbtitleunshift\" transform=\"translate(-80,-60)\"><g class=\"cbtitle\"/></g><rect class=\"cboutline\" x=\"549\" y=\"10\" width=\"30\" height=\"290\" style=\"stroke: rgb(68, 68, 68); stroke-opacity: 1; fill: none; stroke-width: 0;\"/></g><g class=\"g-gtitle\"/><g class=\"g-xtitle\"/><g class=\"g-ytitle\"/></g></svg>"
      ]
     },
     "metadata": {},
     "output_type": "display_data"
    }
   ],
   "source": [
    "import plotly.express as px\n",
    "df_2 = df[['Open', 'High', 'Low', 'Price']]**2\n",
    "df_2 = pd.concat([df_2.add_prefix('square_'), df[['Open', 'High', 'Low', 'Price', 'new']]], axis = 1)\n",
    "fig = px.imshow(df_2.corr(), x = df_2.columns, y = df_2.columns)\n",
    "fig.show('svg')"
   ]
  },
  {
   "cell_type": "markdown",
   "metadata": {},
   "source": [
    "The heatmap shows that the 'new' column is a polynomial combination of the OHLC columns."
   ]
  },
  {
   "cell_type": "markdown",
   "metadata": {},
   "source": [
    "#### Calculation of $\\mathbf{\\beta}$ for HDFC stock w.r.t Nifty Index"
   ]
  },
  {
   "cell_type": "code",
   "execution_count": 240,
   "metadata": {},
   "outputs": [],
   "source": [
    "benchmark = pd.read_csv('Nifty50/Nifty50.csv')\n",
    "stock = pd.read_csv('week2.csv')"
   ]
  },
  {
   "cell_type": "code",
   "execution_count": 241,
   "metadata": {},
   "outputs": [],
   "source": [
    "benchmark['Day_Perc_Change'] = benchmark['Close'].pct_change().fillna(0)*100\n",
    "stock['Day_Perc_Change'] = stock['Close Price'].pct_change().fillna(0)*100"
   ]
  },
  {
   "cell_type": "code",
   "execution_count": 242,
   "metadata": {},
   "outputs": [],
   "source": [
    "stock['Date'] = stock['Date'].astype('datetime64')\n",
    "stock['Day_of_Month'] = stock['Date'].dt.day"
   ]
  },
  {
   "cell_type": "code",
   "execution_count": 243,
   "metadata": {},
   "outputs": [
    {
     "data": {
      "text/plain": [
       "True"
      ]
     },
     "execution_count": 243,
     "metadata": {},
     "output_type": "execute_result"
    }
   ],
   "source": [
    "all(benchmark['Date'].astype('datetime64') == stock['Date'])"
   ]
  },
  {
   "cell_type": "code",
   "execution_count": 244,
   "metadata": {},
   "outputs": [
    {
     "data": {
      "text/html": [
       "<div>\n",
       "<style scoped>\n",
       "    .dataframe tbody tr th:only-of-type {\n",
       "        vertical-align: middle;\n",
       "    }\n",
       "\n",
       "    .dataframe tbody tr th {\n",
       "        vertical-align: top;\n",
       "    }\n",
       "\n",
       "    .dataframe thead th {\n",
       "        text-align: right;\n",
       "    }\n",
       "</style>\n",
       "<table border=\"1\" class=\"dataframe\">\n",
       "  <thead>\n",
       "    <tr style=\"text-align: right;\">\n",
       "      <th></th>\n",
       "      <th>benchmark_Date</th>\n",
       "      <th>benchmark_Open</th>\n",
       "      <th>benchmark_High</th>\n",
       "      <th>benchmark_Low</th>\n",
       "      <th>benchmark_Close</th>\n",
       "      <th>benchmark_Shares Traded</th>\n",
       "      <th>benchmark_Turnover (Rs. Cr)</th>\n",
       "      <th>benchmark_Day_Perc_Change</th>\n",
       "      <th>stock_Unnamed: 0</th>\n",
       "      <th>stock_Symbol</th>\n",
       "      <th>...</th>\n",
       "      <th>stock_Total Traded Quantity</th>\n",
       "      <th>stock_Turnover</th>\n",
       "      <th>stock_No. of Trades</th>\n",
       "      <th>stock_Deliverable Qty</th>\n",
       "      <th>stock_% Dly Qt to Traded Qty</th>\n",
       "      <th>stock_Month</th>\n",
       "      <th>stock_Year</th>\n",
       "      <th>stock_Day_Perc_Change</th>\n",
       "      <th>stock_Trend</th>\n",
       "      <th>stock_Day_of_Month</th>\n",
       "    </tr>\n",
       "  </thead>\n",
       "  <tbody>\n",
       "    <tr>\n",
       "      <th>0</th>\n",
       "      <td>15-May-2017</td>\n",
       "      <td>9433.55</td>\n",
       "      <td>9449.25</td>\n",
       "      <td>9423.10</td>\n",
       "      <td>9445.40</td>\n",
       "      <td>145163953</td>\n",
       "      <td>7790.97</td>\n",
       "      <td>0.000000</td>\n",
       "      <td>0</td>\n",
       "      <td>HDFC</td>\n",
       "      <td>...</td>\n",
       "      <td>1270297</td>\n",
       "      <td>1.984990e+09</td>\n",
       "      <td>59917</td>\n",
       "      <td>955875</td>\n",
       "      <td>75.25</td>\n",
       "      <td>5</td>\n",
       "      <td>2017</td>\n",
       "      <td>0.000000</td>\n",
       "      <td>Slight or no change</td>\n",
       "      <td>15</td>\n",
       "    </tr>\n",
       "    <tr>\n",
       "      <th>1</th>\n",
       "      <td>16-May-2017</td>\n",
       "      <td>9461.00</td>\n",
       "      <td>9517.20</td>\n",
       "      <td>9456.35</td>\n",
       "      <td>9512.25</td>\n",
       "      <td>171709433</td>\n",
       "      <td>9209.89</td>\n",
       "      <td>0.707752</td>\n",
       "      <td>2</td>\n",
       "      <td>HDFC</td>\n",
       "      <td>...</td>\n",
       "      <td>2114918</td>\n",
       "      <td>3.307844e+09</td>\n",
       "      <td>79354</td>\n",
       "      <td>1652379</td>\n",
       "      <td>78.13</td>\n",
       "      <td>5</td>\n",
       "      <td>2017</td>\n",
       "      <td>0.452068</td>\n",
       "      <td>Slight or no change</td>\n",
       "      <td>16</td>\n",
       "    </tr>\n",
       "    <tr>\n",
       "      <th>2</th>\n",
       "      <td>17-May-2017</td>\n",
       "      <td>9517.60</td>\n",
       "      <td>9532.60</td>\n",
       "      <td>9486.10</td>\n",
       "      <td>9525.75</td>\n",
       "      <td>211856040</td>\n",
       "      <td>10726.23</td>\n",
       "      <td>0.141922</td>\n",
       "      <td>3</td>\n",
       "      <td>HDFC</td>\n",
       "      <td>...</td>\n",
       "      <td>2161434</td>\n",
       "      <td>3.365526e+09</td>\n",
       "      <td>80317</td>\n",
       "      <td>1794472</td>\n",
       "      <td>83.02</td>\n",
       "      <td>5</td>\n",
       "      <td>2017</td>\n",
       "      <td>-0.896875</td>\n",
       "      <td>Slight negative</td>\n",
       "      <td>17</td>\n",
       "    </tr>\n",
       "    <tr>\n",
       "      <th>3</th>\n",
       "      <td>18-May-2017</td>\n",
       "      <td>9453.20</td>\n",
       "      <td>9489.10</td>\n",
       "      <td>9418.10</td>\n",
       "      <td>9429.45</td>\n",
       "      <td>199340647</td>\n",
       "      <td>10782.46</td>\n",
       "      <td>-1.010944</td>\n",
       "      <td>5</td>\n",
       "      <td>HDFC</td>\n",
       "      <td>...</td>\n",
       "      <td>2404372</td>\n",
       "      <td>3.700407e+09</td>\n",
       "      <td>85842</td>\n",
       "      <td>1837821</td>\n",
       "      <td>76.44</td>\n",
       "      <td>5</td>\n",
       "      <td>2017</td>\n",
       "      <td>-0.995169</td>\n",
       "      <td>Slight negative</td>\n",
       "      <td>18</td>\n",
       "    </tr>\n",
       "    <tr>\n",
       "      <th>4</th>\n",
       "      <td>19-May-2017</td>\n",
       "      <td>9469.90</td>\n",
       "      <td>9505.75</td>\n",
       "      <td>9390.75</td>\n",
       "      <td>9427.90</td>\n",
       "      <td>259861396</td>\n",
       "      <td>11544.77</td>\n",
       "      <td>-0.016438</td>\n",
       "      <td>7</td>\n",
       "      <td>HDFC</td>\n",
       "      <td>...</td>\n",
       "      <td>2142433</td>\n",
       "      <td>3.269652e+09</td>\n",
       "      <td>113875</td>\n",
       "      <td>1601236</td>\n",
       "      <td>74.74</td>\n",
       "      <td>5</td>\n",
       "      <td>2017</td>\n",
       "      <td>-1.070232</td>\n",
       "      <td>Negative</td>\n",
       "      <td>19</td>\n",
       "    </tr>\n",
       "  </tbody>\n",
       "</table>\n",
       "<p>5 rows × 29 columns</p>\n",
       "</div>"
      ],
      "text/plain": [
       "  benchmark_Date  benchmark_Open  benchmark_High  benchmark_Low  \\\n",
       "0    15-May-2017         9433.55         9449.25        9423.10   \n",
       "1    16-May-2017         9461.00         9517.20        9456.35   \n",
       "2    17-May-2017         9517.60         9532.60        9486.10   \n",
       "3    18-May-2017         9453.20         9489.10        9418.10   \n",
       "4    19-May-2017         9469.90         9505.75        9390.75   \n",
       "\n",
       "   benchmark_Close  benchmark_Shares Traded  benchmark_Turnover (Rs. Cr)  \\\n",
       "0          9445.40                145163953                      7790.97   \n",
       "1          9512.25                171709433                      9209.89   \n",
       "2          9525.75                211856040                     10726.23   \n",
       "3          9429.45                199340647                     10782.46   \n",
       "4          9427.90                259861396                     11544.77   \n",
       "\n",
       "   benchmark_Day_Perc_Change  stock_Unnamed: 0 stock_Symbol  ...  \\\n",
       "0                   0.000000                 0         HDFC  ...   \n",
       "1                   0.707752                 2         HDFC  ...   \n",
       "2                   0.141922                 3         HDFC  ...   \n",
       "3                  -1.010944                 5         HDFC  ...   \n",
       "4                  -0.016438                 7         HDFC  ...   \n",
       "\n",
       "  stock_Total Traded Quantity stock_Turnover  stock_No. of Trades  \\\n",
       "0                     1270297   1.984990e+09                59917   \n",
       "1                     2114918   3.307844e+09                79354   \n",
       "2                     2161434   3.365526e+09                80317   \n",
       "3                     2404372   3.700407e+09                85842   \n",
       "4                     2142433   3.269652e+09               113875   \n",
       "\n",
       "   stock_Deliverable Qty  stock_% Dly Qt to Traded Qty  stock_Month  \\\n",
       "0                 955875                         75.25            5   \n",
       "1                1652379                         78.13            5   \n",
       "2                1794472                         83.02            5   \n",
       "3                1837821                         76.44            5   \n",
       "4                1601236                         74.74            5   \n",
       "\n",
       "   stock_Year  stock_Day_Perc_Change          stock_Trend  stock_Day_of_Month  \n",
       "0        2017               0.000000  Slight or no change                  15  \n",
       "1        2017               0.452068  Slight or no change                  16  \n",
       "2        2017              -0.896875      Slight negative                  17  \n",
       "3        2017              -0.995169      Slight negative                  18  \n",
       "4        2017              -1.070232             Negative                  19  \n",
       "\n",
       "[5 rows x 29 columns]"
      ]
     },
     "execution_count": 244,
     "metadata": {},
     "output_type": "execute_result"
    }
   ],
   "source": [
    "combined = pd.concat([benchmark.add_prefix('benchmark_'), stock.add_prefix('stock_')], axis = 1)\n",
    "combined.head()"
   ]
  },
  {
   "cell_type": "code",
   "execution_count": 245,
   "metadata": {},
   "outputs": [],
   "source": [
    "assert all(combined.sort_values('stock_Date') == combined)"
   ]
  },
  {
   "cell_type": "code",
   "execution_count": 246,
   "metadata": {},
   "outputs": [
    {
     "name": "stdout",
     "output_type": "stream",
     "text": [
      "beta for weekly returns is 0.321231779430021\n"
     ]
    }
   ],
   "source": [
    "import scipy.stats as stats\n",
    "beta, alpha, *_ = stats.linregress(combined['stock_Day_Perc_Change'].values[1:], \n",
    "                                   combined['benchmark_Day_Perc_Change'].values[1:])\n",
    "print(f'beta for weekly returns is {beta}')"
   ]
  },
  {
   "cell_type": "code",
   "execution_count": 247,
   "metadata": {},
   "outputs": [
    {
     "data": {
      "image/png": "[encoded data removed]",
      "text/plain": [
       "<Figure size 432x288 with 1 Axes>"
      ]
     },
     "metadata": {
      "needs_background": "light"
     },
     "output_type": "display_data"
    }
   ],
   "source": [
    "sns.regplot(x = combined['stock_Day_Perc_Change'].values[1:], \n",
    "            y = combined['benchmark_Day_Perc_Change'].values[1:])\n",
    "plt.xlabel('Stock returns')\n",
    "plt.ylabel('Benchmark returns')\n",
    "plt.title('Daily returns of the stock vs benchmark')\n",
    "plt.show()"
   ]
  },
  {
   "cell_type": "code",
   "execution_count": 248,
   "metadata": {},
   "outputs": [
    {
     "name": "stdout",
     "output_type": "stream",
     "text": [
      "beta for monthly returns is 0.3177554923803718\n"
     ]
    }
   ],
   "source": [
    "monthly = combined.groupby(['stock_Year', 'stock_Month']).nth(-1)\n",
    "beta, alpha, *_ = stats.linregress(monthly['stock_Day_Perc_Change'].values[1:], \n",
    "                                   monthly['benchmark_Day_Perc_Change'].values[1:])\n",
    "print(f'beta for monthly returns is {beta}')"
   ]
  },
  {
   "cell_type": "code",
   "execution_count": 249,
   "metadata": {},
   "outputs": [
    {
     "data": {
      "image/png": "[encoded data removed]",
      "text/plain": [
       "<Figure size 432x288 with 1 Axes>"
      ]
     },
     "metadata": {
      "needs_background": "light"
     },
     "output_type": "display_data"
    }
   ],
   "source": [
    "sns.regplot(x = monthly['stock_Day_Perc_Change'].values[1:], \n",
    "            y = monthly['benchmark_Day_Perc_Change'].values[1:])\n",
    "plt.xlabel('Stock returns')\n",
    "plt.ylabel('Benchmark returns')\n",
    "plt.title('Monthly returns of the stock vs benchmark')\n",
    "plt.show()"
   ]
  },
  {
   "cell_type": "markdown",
   "metadata": {},
   "source": [
    "The $\\beta$ value is quite low and notably below 1, signifying that the stock does not move as much compared to the index. A negative value of $\\beta$ would signify one of two things, either the stock is inversely related to the index, or, the stock is not affected by the market sentiment due to a drastic event during the perios in question."
   ]
  },
  {
   "cell_type": "code",
   "execution_count": null,
   "metadata": {},
   "outputs": [],
   "source": []
  }
 ],
 "metadata": {
  "kernelspec": {
   "display_name": "Python 3.7.6 64-bit",
   "language": "python",
   "name": "python37664bitd2f58a4918ec49a6be3098fab8dcc577"
  },
  "language_info": {
   "codemirror_mode": {
    "name": "ipython",
    "version": 3
   },
   "file_extension": ".py",
   "mimetype": "text/x-python",
   "name": "python",
   "nbconvert_exporter": "python",
   "pygments_lexer": "ipython3",
   "version": "3.7.6"
  },
  "varInspector": {
   "cols": {
    "lenName": 16,
    "lenType": 16,
    "lenVar": 40
   },
   "kernels_config": {
    "python": {
     "delete_cmd_postfix": "",
     "delete_cmd_prefix": "del ",
     "library": "var_list.py",
     "varRefreshCmd": "print(var_dic_list())"
    },
    "r": {
     "delete_cmd_postfix": ") ",
     "delete_cmd_prefix": "rm(",
     "library": "var_list.r",
     "varRefreshCmd": "cat(var_dic_list()) "
    }
   },
   "types_to_exclude": [
    "module",
    "function",
    "builtin_function_or_method",
    "instance",
    "_Feature"
   ],
   "window_display": false
  }
 },
 "nbformat": 4,
 "nbformat_minor": 2
}
